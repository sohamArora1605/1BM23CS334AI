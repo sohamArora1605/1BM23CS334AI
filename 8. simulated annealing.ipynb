{
  "nbformat": 4,
  "nbformat_minor": 0,
  "metadata": {
    "colab": {
      "provenance": [],
      "authorship_tag": "ABX9TyNgh2B/7F6gB8zczcrAjELZ"
    },
    "kernelspec": {
      "name": "python3",
      "display_name": "Python 3"
    },
    "language_info": {
      "name": "python"
    }
  },
  "cells": [
    {
      "cell_type": "code",
      "execution_count": null,
      "metadata": {
        "colab": {
          "base_uri": "https://localhost:8080/"
        },
        "id": "ZUHejCR55WSZ",
        "outputId": "1dfa0d6e-09aa-4539-84bc-c9b6bb1b9282"
      },
      "outputs": [
        {
          "output_type": "stream",
          "name": "stdout",
          "text": [
            "The best position found: [2, 4, 7, 3, 0, 6, 1, 5]\n",
            "cost = 0\n"
          ]
        }
      ],
      "source": [
        "import random\n",
        "import math\n",
        "\n",
        "def calculate_cost(state):\n",
        "    cost = 0\n",
        "    n = len(state)\n",
        "    for i in range(n):\n",
        "        for j in range(i + 1, n):\n",
        "            if state[i] == state[j] or abs(state[i] - state[j]) == abs(i - j):\n",
        "                cost += 1\n",
        "    return cost\n",
        "\n",
        "def get_random_neighbor(state):\n",
        "    n = len(state)\n",
        "    new_state = list(state)\n",
        "    col = random.randint(0, n - 1)\n",
        "    row = random.randint(0, n - 1)\n",
        "    new_state[col] = row\n",
        "    return new_state\n",
        "\n",
        "def simulated_annealing(n=8, max_iterations=10000, initial_temp=100.0, cooling_rate=0.99):\n",
        "\n",
        "    current = [random.randint(0, n - 1) for _ in range(n)]\n",
        "    current_cost = calculate_cost(current)\n",
        "    best = current\n",
        "    best_cost = current_cost\n",
        "    temperature = initial_temp\n",
        "\n",
        "    for _ in range(max_iterations):\n",
        "        if current_cost == 0:\n",
        "            break  # found solution\n",
        "\n",
        "        neighbor = get_random_neighbor(current)\n",
        "        neighbor_cost = calculate_cost(neighbor)\n",
        "        delta = neighbor_cost - current_cost\n",
        "\n",
        "        if delta < 0 or random.random() < math.exp(-delta / temperature):\n",
        "            current, current_cost = neighbor, neighbor_cost\n",
        "\n",
        "            if current_cost < best_cost:\n",
        "                best, best_cost = current, current_cost\n",
        "\n",
        "        temperature *= cooling_rate\n",
        "        if temperature < 1e-6:\n",
        "            break\n",
        "\n",
        "    return best, best_cost\n",
        "\n",
        "best_state, best_cost = simulated_annealing()\n",
        "\n",
        "print(\"The best position found:\", best_state)\n",
        "print(\"cost =\", best_cost)\n",
        "print(\"soham arora 1bm23cs334\")\n"
      ]
    }
  ]
}