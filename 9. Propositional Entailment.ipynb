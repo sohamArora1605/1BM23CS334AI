{
  "cells": [
    {
      "cell_type": "markdown",
      "metadata": {
        "id": "view-in-github",
        "colab_type": "text"
      },
      "source": [
        "<a href=\"https://colab.research.google.com/github/sohamArora1605/1BM23CS334AI/blob/main/9.%20Propositional%20Entailment.ipynb\" target=\"_parent\"><img src=\"https://colab.research.google.com/assets/colab-badge.svg\" alt=\"Open In Colab\"/></a>"
      ]
    },
    {
      "cell_type": "code",
      "source": [],
      "metadata": {
        "id": "t6Ve_m7N24Mv"
      },
      "execution_count": null,
      "outputs": []
    },
    {
      "cell_type": "code",
      "metadata": {
        "colab": {
          "base_uri": "https://localhost:8080/"
        },
        "id": "90428d3d",
        "outputId": "d9bfdb1e-0925-4cf2-8c23-2f26227809cb"
      },
      "source": [
        "import itertools\n",
        "\n",
        "def parse_expression(expression):\n",
        "    print(\"Soham Arora 1BM23CS334\")\n",
        "    expression = expression.replace('V', ' and ')\n",
        "    expression = expression.replace('U', ' or ')\n",
        "    expression = expression.replace('~', ' not ')\n",
        "    import re\n",
        "    expression = re.sub(r'([A-Z])', r'(\\1)', expression)\n",
        "\n",
        "    return expression\n",
        "\n",
        "def evaluate_expression(expression, truth_assignment):\n",
        "    for symbol, value in truth_assignment.items():\n",
        "        expression = expression.replace(f'({symbol})', str(value))\n",
        "    try:\n",
        "        return eval(expression)\n",
        "    except Exception as e:\n",
        "        print(f\"Error evaluating expression: {expression} with assignment {truth_assignment} - {e}\")\n",
        "        return False\n",
        "\n",
        "\n",
        "def propositional_inference_enumeration_single(literals, knowledge_base_expr, alpha_expr):\n",
        "    symbols = sorted(literals)\n",
        "    truth_assignments = list(itertools.product([True, False], repeat=len(symbols)))\n",
        "    header = symbols + [knowledge_base_expr, alpha_expr, \"KB True\", \"KB => Alpha\"]\n",
        "    print(\"\\t\".join(header))\n",
        "    print(\"-\" * (8 * len(header)))\n",
        "\n",
        "    entails = True\n",
        "    for assignment_values in truth_assignments:\n",
        "        truth_assignment = dict(zip(symbols, assignment_values))\n",
        "        parsed_kb_expr = parse_expression(knowledge_base_expr)\n",
        "        kb_evaluation = evaluate_expression(parsed_kb_expr, truth_assignment)\n",
        "\n",
        "        parsed_alpha_expr = parse_expression(alpha_expr)\n",
        "        alpha_evaluation = evaluate_expression(parsed_alpha_expr, truth_assignment)\n",
        "\n",
        "\n",
        "        kb_true = kb_evaluation\n",
        "        kb_implies_alpha = not kb_true or alpha_evaluation\n",
        "\n",
        "        row_values = list(assignment_values) + [kb_evaluation, alpha_evaluation, kb_true, kb_implies_alpha]\n",
        "\n",
        "\n",
        "        if kb_true and alpha_evaluation:\n",
        "            print(\"\\t\".join(f\"\\033[1m{v}\\033[0m\" for v in row_values))\n",
        "        else:\n",
        "            print(\"\\t\".join(str(v) for v in row_values))\n",
        "\n",
        "\n",
        "        if kb_true and not alpha_evaluation:\n",
        "            entails = False\n",
        "\n",
        "    return entails\n",
        "\n",
        "\n",
        "num_literals = int(input(\"Enter the number of literals: \"))\n",
        "literals = [input(f\"Enter literal {i+1}: \") for i in range(num_literals)]\n",
        "knowledge_base_expr = input(\"Enter the knowledge base expression (use V for AND, U for OR, ~ for NOT): \")\n",
        "alpha_expr = input(\"Enter the alpha expression (use V for AND, U for OR, ~ for NOT): \")\n",
        "\n",
        "print(\"\\n--- Truth Table ---\")\n",
        "result = propositional_inference_enumeration_single(literals, knowledge_base_expr, alpha_expr)\n",
        "\n",
        "if result:\n",
        "    print(f\"\\nResult: Knowledge base entails alpha.\")\n",
        "else:\n",
        "    print(f\"\\nResult: Knowledge base does not entail alpha.\")"
      ],
      "execution_count": null,
      "outputs": [
        {
          "output_type": "stream",
          "name": "stdout",
          "text": [
            "Enter the number of literals: 3\n",
            "Enter literal 1: A\n",
            "Enter literal 2: B\n",
            "Enter literal 3: C\n",
            "Enter the knowledge base expression (use V for AND, U for OR, ~ for NOT): A V B U C\n",
            "Enter the alpha expression (use V for AND, U for OR, ~ for NOT): A V B\n",
            "\n",
            "--- Truth Table ---\n",
            "A\tB\tC\tA V B U C\tA V B\tKB True\tKB => Alpha\n",
            "--------------------------------------------------------\n",
            "Soham Arora 1BM23CS334\n",
            "Soham Arora 1BM23CS334\n",
            "\u001b[1mTrue\u001b[0m\t\u001b[1mTrue\u001b[0m\t\u001b[1mTrue\u001b[0m\t\u001b[1mTrue\u001b[0m\t\u001b[1mTrue\u001b[0m\t\u001b[1mTrue\u001b[0m\t\u001b[1mTrue\u001b[0m\n",
            "Soham Arora 1BM23CS334\n",
            "Soham Arora 1BM23CS334\n",
            "\u001b[1mTrue\u001b[0m\t\u001b[1mTrue\u001b[0m\t\u001b[1mFalse\u001b[0m\t\u001b[1mTrue\u001b[0m\t\u001b[1mTrue\u001b[0m\t\u001b[1mTrue\u001b[0m\t\u001b[1mTrue\u001b[0m\n",
            "Soham Arora 1BM23CS334\n",
            "Soham Arora 1BM23CS334\n",
            "True\tFalse\tTrue\tTrue\tFalse\tTrue\tFalse\n",
            "Soham Arora 1BM23CS334\n",
            "Soham Arora 1BM23CS334\n",
            "True\tFalse\tFalse\tFalse\tFalse\tFalse\tTrue\n",
            "Soham Arora 1BM23CS334\n",
            "Soham Arora 1BM23CS334\n",
            "False\tTrue\tTrue\tTrue\tFalse\tTrue\tFalse\n",
            "Soham Arora 1BM23CS334\n",
            "Soham Arora 1BM23CS334\n",
            "False\tTrue\tFalse\tFalse\tFalse\tFalse\tTrue\n",
            "Soham Arora 1BM23CS334\n",
            "Soham Arora 1BM23CS334\n",
            "False\tFalse\tTrue\tTrue\tFalse\tTrue\tFalse\n",
            "Soham Arora 1BM23CS334\n",
            "Soham Arora 1BM23CS334\n",
            "False\tFalse\tFalse\tFalse\tFalse\tFalse\tTrue\n",
            "\n",
            "Result: Knowledge base does not entail alpha.\n"
          ]
        }
      ]
    }
  ],
  "metadata": {
    "colab": {
      "toc_visible": true,
      "provenance": [],
      "include_colab_link": true
    },
    "kernelspec": {
      "display_name": "Python 3",
      "name": "python3"
    }
  },
  "nbformat": 4,
  "nbformat_minor": 0
}