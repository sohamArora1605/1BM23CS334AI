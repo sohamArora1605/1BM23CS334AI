{
  "nbformat": 4,
  "nbformat_minor": 0,
  "metadata": {
    "colab": {
      "provenance": [],
      "authorship_tag": "ABX9TyPByEX0RA5zIypId4VbH2Nr",
      "include_colab_link": true
    },
    "kernelspec": {
      "name": "python3",
      "display_name": "Python 3"
    },
    "language_info": {
      "name": "python"
    }
  },
  "cells": [
    {
      "cell_type": "markdown",
      "metadata": {
        "id": "view-in-github",
        "colab_type": "text"
      },
      "source": [
        "<a href=\"https://colab.research.google.com/github/sohamArora1605/1BM23CS334AI/blob/main/8*8%20puzzle%20without%20huriastic.ipynb\" target=\"_parent\"><img src=\"https://colab.research.google.com/assets/colab-badge.svg\" alt=\"Open In Colab\"/></a>"
      ]
    },
    {
      "cell_type": "code",
      "execution_count": 5,
      "metadata": {
        "colab": {
          "base_uri": "https://localhost:8080/"
        },
        "id": "gztKyQg7pKMz",
        "outputId": "6db2ad42-61f4-4ae5-fda0-2f2dad932313"
      },
      "outputs": [
        {
          "output_type": "stream",
          "name": "stdout",
          "text": [
            "Enter the initial state (3x3 matrix, use 0 for the empty space, separated by spaces):\n",
            "1 2 3\n",
            "4 5 6\n",
            "0 7 8\n",
            "\n",
            "Enter the final state (3x3 matrix, use 0 for the empty space, separated by spaces):\n",
            "1 2 3\n",
            "4 5 6\n",
            "7 8 0\n",
            "\n",
            " Found a solution:\n",
            "Step 0:\n",
            "(1, 2, 3)\n",
            "(4, 5, 6)\n",
            "(0, 7, 8)\n",
            "----------\n",
            "Step 1:\n",
            "(1, 2, 3)\n",
            "(4, 5, 6)\n",
            "(7, 0, 8)\n",
            "----------\n",
            "Step 2:\n",
            "(1, 2, 3)\n",
            "(4, 5, 6)\n",
            "(7, 8, 0)\n",
            "----------\n",
            "Total cost : 2\n"
          ]
        }
      ],
      "source": [
        "from collections import deque\n",
        "\n",
        "def get_next_states(state):\n",
        "    next_states = []\n",
        "    zero_row, zero_col = -1, -1\n",
        "    for r in range(3):\n",
        "        for c in range(3):\n",
        "            if state[r][c] == 0:\n",
        "                zero_row, zero_col = r, c\n",
        "                break\n",
        "        if zero_row != -1:\n",
        "            break\n",
        "\n",
        "    moves = [(0, 1), (0, -1), (1, 0), (-1, 0)]\n",
        "\n",
        "    for dr, dc in moves:\n",
        "        new_row, new_col = zero_row + dr, zero_col + dc\n",
        "        if 0 <= new_row < 3 and 0 <= new_col < 3:\n",
        "            new_state_list = [list(row) for row in state]\n",
        "            new_state_list[zero_row][zero_col], new_state_list[new_row][new_col] = \\\n",
        "                new_state_list[new_row][new_col], new_state_list[zero_row][zero_col]\n",
        "            new_state = tuple(tuple(row) for row in new_state_list)\n",
        "            next_states.append(new_state)\n",
        "\n",
        "    return next_states\n",
        "\n",
        "\n",
        "def solve_puzzle_bfs(start, goal):\n",
        "    queue = deque([(start, [start])])\n",
        "    visited = {start}\n",
        "\n",
        "    while queue:\n",
        "        current_state, path = queue.popleft()\n",
        "\n",
        "        if current_state == goal:\n",
        "            return path\n",
        "\n",
        "        for next_state in get_next_states(current_state):\n",
        "            if next_state not in visited:\n",
        "                visited.add(next_state)\n",
        "                queue.append((next_state, path + [next_state]))\n",
        "\n",
        "    return None\n",
        "\n",
        "def solve_puzzle_with_input():\n",
        "    print(\"Enter the initial state (3x3 matrix, use 0 for the empty space, separated by spaces):\")\n",
        "    initial_state_list = []\n",
        "    for _ in range(3):\n",
        "        row = list(map(int, input().split()))\n",
        "        initial_state_list.append(tuple(row))\n",
        "    initial_state = tuple(initial_state_list)\n",
        "\n",
        "    print(\"\\nEnter the final state (3x3 matrix, use 0 for the empty space, separated by spaces):\")\n",
        "    final_state_list = []\n",
        "    for _ in range(3):\n",
        "        row = list(map(int, input().split()))\n",
        "        final_state_list.append(tuple(row))\n",
        "    final_state = tuple(final_state_list)\n",
        "\n",
        "\n",
        "    solution_path = solve_puzzle_bfs(initial_state, final_state)\n",
        "\n",
        "    if solution_path:\n",
        "        print(\"\\n Found a solution:\")\n",
        "        for step_num, state in enumerate(solution_path):\n",
        "            print(f\"Step {step_num}:\")\n",
        "            for row in state:\n",
        "                print(row)\n",
        "            print(\"-\" * 10)\n",
        "        print(\"Total cost :\", len(solution_path) - 1)\n",
        "    else:\n",
        "        print(\"No solution found :(\")\n",
        "\n",
        "solve_puzzle_with_input()"
      ]
    }
  ]
}
