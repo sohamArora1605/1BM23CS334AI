{
  "cells": [
    {
      "cell_type": "markdown",
      "metadata": {
        "id": "view-in-github",
        "colab_type": "text"
      },
      "source": [
        "<a href=\"https://colab.research.google.com/github/sohamArora1605/1BM23CS334AI/blob/main/TICTACTOE.ipynb\" target=\"_parent\"><img src=\"https://colab.research.google.com/assets/colab-badge.svg\" alt=\"Open In Colab\"/></a>"
      ]
    },
    {
      "cell_type": "code",
      "execution_count": null,
      "metadata": {
        "colab": {
          "base_uri": "https://localhost:8080/"
        },
        "id": "0QPx5qR8Z7ra",
        "outputId": "57d230f1-399d-46fa-ddb2-6b8a9d217ecc"
      },
      "outputs": [
        {
          "output_type": "stream",
          "name": "stdout",
          "text": [
            "Initial Board:\n",
            "  |   |  \n",
            "--+---+--\n",
            "  |   |  \n",
            "--+---+--\n",
            "  |   |  \n",
            "Cost of best move for player X: 0\n"
          ]
        }
      ],
      "source": [
        "\n",
        "def create_board():\n",
        "    return [' ' for _ in range(9)]  # Flat list, indices 0-8\n",
        "\n",
        "\n",
        "def display_board(board):\n",
        "    for i in range(3):\n",
        "        print(board[i*3] + \" | \" + board[i*3+1] + \" | \" + board[i*3+2])\n",
        "        if i < 2:\n",
        "            print(\"--+---+--\")\n",
        "\n",
        "# Check for winner\n",
        "def check_winner(board, player):\n",
        "    win_conditions = [\n",
        "        [0, 1, 2], [3, 4, 5], [6, 7, 8],  # rows\n",
        "        [0, 3, 6], [1, 4, 7], [2, 5, 8],  # columns\n",
        "        [0, 4, 8], [2, 4, 6]              # diagonals\n",
        "    ]\n",
        "    for condition in win_conditions:\n",
        "        if all(board[i] == player for i in condition):\n",
        "            return True\n",
        "    return False\n",
        "\n",
        "# Check for draw\n",
        "def is_draw(board):\n",
        "    return ' ' not in board\n",
        "\n",
        "# Switch player\n",
        "def switch_player(player):\n",
        "    return 'O' if player == 'X' else 'X'\n",
        "# Recursive minimax function to calculate cost\n",
        "def minimax(board, is_maximizing, player):\n",
        "    opponent = switch_player(player)\n",
        "\n",
        "    if check_winner(board, player):\n",
        "        return 1  # Win for current player\n",
        "    elif check_winner(board, opponent):\n",
        "        return -1  # Loss for current player\n",
        "    elif is_draw(board):\n",
        "        return 0  # Draw\n",
        "\n",
        "    if is_maximizing:\n",
        "        best_score = -float('inf')\n",
        "        for i in range(9):\n",
        "            if board[i] == ' ':\n",
        "                board[i] = player\n",
        "                score = minimax(board, False, player)\n",
        "                board[i] = ' '\n",
        "                best_score = max(score, best_score)\n",
        "        return best_score\n",
        "    else:\n",
        "        best_score = float('inf')\n",
        "        for i in range(9):\n",
        "            if board[i] == ' ':\n",
        "                board[i] = opponent\n",
        "                score = minimax(board, True, player)\n",
        "                board[i] = ' '\n",
        "                best_score = min(score, best_score)\n",
        "        return best_score\n",
        "# Example: calculating cost from an empty board for player 'X'\n",
        "board = create_board()\n",
        "player = 'X'\n",
        "\n",
        "print(\"Initial Board:\")\n",
        "display_board(board)\n",
        "\n",
        "cost = minimax(board, True, player)\n",
        "print(f\"Cost of best move for player {player}: {cost}\")\n",
        "\n"
      ]
    },
    {
      "cell_type": "code",
      "execution_count": null,
      "metadata": {
        "colab": {
          "base_uri": "https://localhost:8080/"
        },
        "id": "7A7pqXTgacNj",
        "outputId": "59c6c544-5007-4d2e-ca10-a1d0e0789d12"
      },
      "outputs": [
        {
          "output_type": "stream",
          "name": "stdout",
          "text": [
            "Player 1, choose your symbol (X or O): O\n",
            "Player 2, your symbol is: X\n",
            "Soham Arora 1BM23CS334\n",
            "  |   |  \n",
            "--+---+--\n",
            "  |   |  \n",
            "--+---+--\n",
            "  |   |  \n",
            "It's X's turn.\n",
            "Enter your move (1-9): 5\n",
            "  |   |  \n",
            "--+---+--\n",
            "  | X |  \n",
            "--+---+--\n",
            "  |   |  \n",
            "It's O's turn.\n",
            "Enter your move (1-9): 7\n",
            "  |   |  \n",
            "--+---+--\n",
            "  | X |  \n",
            "--+---+--\n",
            "O |   |  \n",
            "It's X's turn.\n",
            "Enter your move (1-9): 1\n",
            "X |   |  \n",
            "--+---+--\n",
            "  | X |  \n",
            "--+---+--\n",
            "O |   |  \n",
            "It's O's turn.\n",
            "Enter your move (1-9): 8\n",
            "X |   |  \n",
            "--+---+--\n",
            "  | X |  \n",
            "--+---+--\n",
            "O | O |  \n",
            "It's X's turn.\n",
            "Enter your move (1-9): 9\n",
            "X |   |  \n",
            "--+---+--\n",
            "  | X |  \n",
            "--+---+--\n",
            "O | O | X\n",
            "Player X wins!\n"
          ]
        }
      ],
      "source": [
        "\n",
        "def play_game():\n",
        "    board = create_board()\n",
        "    player1_symbol = input(\"Player 1, choose your symbol (X or O): \").upper()\n",
        "    while player1_symbol not in ['X', 'O']:\n",
        "        player1_symbol = input(\"Invalid input. Choose X or O: \").upper()\n",
        "\n",
        "    player2_symbol = 'O' if player1_symbol == 'X' else 'X'\n",
        "    print(f\"Player 2, your symbol is: {player2_symbol}\")\n",
        "\n",
        "    current_player_symbol = 'X'\n",
        "    print(\"Soham Arora 1BM23CS334\")\n",
        "\n",
        "    while True:\n",
        "        display_board(board)\n",
        "        print(f\"It's {current_player_symbol}'s turn.\")\n",
        "\n",
        "        try:\n",
        "            move = int(input(\"Enter your move (1-9): \")) - 1\n",
        "            if move < 0 or move > 8 or board[move] != ' ':\n",
        "                print(\"Invalid move. Try again.\")\n",
        "                continue\n",
        "        except ValueError:\n",
        "            print(\"Invalid input. Enter a number from 1 to 9.\")\n",
        "            continue\n",
        "\n",
        "        board[move] = current_player_symbol\n",
        "\n",
        "\n",
        "\n",
        "\n",
        "        if check_winner(board, current_player_symbol):\n",
        "            display_board(board)\n",
        "            print(f\"Player {current_player_symbol} wins!\")\n",
        "            break\n",
        "        elif is_draw(board):\n",
        "            display_board(board)\n",
        "            print(\"It's a draw!\")\n",
        "            break\n",
        "\n",
        "        current_player_symbol = switch_player(current_player_symbol)\n",
        "\n",
        "\n",
        "play_game()"
      ]
    }
  ],
  "metadata": {
    "colab": {
      "provenance": [],
      "authorship_tag": "ABX9TyPc2UtCfXS8pEn5berSXwrP",
      "include_colab_link": true
    },
    "kernelspec": {
      "display_name": "Python 3",
      "name": "python3"
    },
    "language_info": {
      "name": "python"
    }
  },
  "nbformat": 4,
  "nbformat_minor": 0
}