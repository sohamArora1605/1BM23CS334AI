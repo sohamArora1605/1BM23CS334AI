{
  "nbformat": 4,
  "nbformat_minor": 0,
  "metadata": {
    "colab": {
      "provenance": [],
      "authorship_tag": "ABX9TyML/hW+Qr9gj9b2WEOGpKcr"
    },
    "kernelspec": {
      "name": "python3",
      "display_name": "Python 3"
    },
    "language_info": {
      "name": "python"
    }
  },
  "cells": [
    {
      "cell_type": "code",
      "execution_count": 1,
      "metadata": {
        "colab": {
          "base_uri": "https://localhost:8080/"
        },
        "id": "Uz8ttcS3zWPV",
        "outputId": "4140ab14-9da5-4d79-9281-adb7c1e1827a"
      },
      "outputs": [
        {
          "output_type": "stream",
          "name": "stdout",
          "text": [
            "1bm23cs334 soham arora\n",
            "Step 0: State=[0, 1, 2, 3], Cost=6\n",
            "Step 1: State=[1, 1, 2, 3], Cost=4\n",
            "Step 2: State=[1, 0, 2, 3], Cost=2\n"
          ]
        }
      ],
      "source": [
        "import random\n",
        "\n",
        "def calculate_cost(state):\n",
        "    cost = 0\n",
        "    n = len(state)\n",
        "    for i in range(n):\n",
        "        for j in range(i + 1, n):\n",
        "            if state[i] == state[j] or abs(state[i] - state[j]) == abs(i - j):\n",
        "                cost += 1\n",
        "    return cost\n",
        "\n",
        "def generate_neighbors(state):\n",
        "    neighbors = []\n",
        "    n = len(state)\n",
        "    for col in range(n):\n",
        "        for row in range(n):\n",
        "            if state[col] != row:\n",
        "                new_state = list(state)\n",
        "                new_state[col] = row\n",
        "                neighbors.append(new_state)\n",
        "    return neighbors\n",
        "\n",
        "def hill_climbing(initial_state):\n",
        "    print(\"1bm23cs334 soham arora\")\n",
        "    current = initial_state\n",
        "    steps = []\n",
        "    step_count = 0\n",
        "    while True:\n",
        "        current_cost = calculate_cost(current)\n",
        "        steps.append((current, current_cost))\n",
        "        print(f\"Step {step_count}: State={current}, Cost={current_cost}\") # Print each step\n",
        "        step_count += 1\n",
        "\n",
        "        neighbors = generate_neighbors(current)\n",
        "        neighbor_costs = [(n, calculate_cost(n)) for n in neighbors]\n",
        "\n",
        "\n",
        "        best_neighbor, best_cost = min(neighbor_costs, key=lambda x: x[1])\n",
        "\n",
        "        if best_cost >= current_cost:\n",
        "            break\n",
        "\n",
        "        current = best_neighbor\n",
        "\n",
        "    return steps\n",
        "\n",
        "initial_state = [0, 1, 2, 3]\n",
        "steps = hill_climbing(initial_state)"
      ]
    }
  ]
}